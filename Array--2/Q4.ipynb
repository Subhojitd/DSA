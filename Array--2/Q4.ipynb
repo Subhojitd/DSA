def can_place_flowers(flowerbed, n):
    i = 0
    while i < len(flowerbed) and n > 0:
        if flowerbed[i] == 0 and (i == 0 or flowerbed[i-1] == 0) and (i == len(flowerbed)-1 or flowerbed[i+1] == 0):
            flowerbed[i] = 1
            n -= 1
        i += 1
    return n == 0

flowerbed = [1, 0, 0, 0, 1]
n = 1
can_plant = can_place_flowers(flowerbed, n)
print(can_plant)